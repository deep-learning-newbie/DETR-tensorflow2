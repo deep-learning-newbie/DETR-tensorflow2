{
  "nbformat": 4,
  "nbformat_minor": 0,
  "metadata": {
    "colab": {
      "name": "DETR-train.ipynb",
      "provenance": []
    },
    "kernelspec": {
      "name": "python3",
      "display_name": "Python 3"
    }
  },
  "cells": [
    {
      "cell_type": "code",
      "metadata": {
        "id": "-cm1asGj1qkW",
        "colab_type": "code",
        "colab": {
          "base_uri": "https://localhost:8080/",
          "height": 175
        },
        "outputId": "27d27e8f-7863-48ab-9278-5f14c44c84c5"
      },
      "source": [
        "!unzip /content/drive/My\\ Drive/detr-tf2.zip"
      ],
      "execution_count": 1,
      "outputs": [
        {
          "output_type": "stream",
          "text": [
            "Archive:  /content/drive/My Drive/detr-tf2.zip\n",
            "  inflating: coco.py                 \n",
            "  inflating: DETR_Keras (2) (1).ipynb  \n",
            "  inflating: loss.py                 \n",
            " extracting: main.py                 \n",
            "  inflating: matcher.py              \n",
            "  inflating: model.py                \n",
            "  inflating: transformer.py          \n",
            "  inflating: utils.py                \n"
          ],
          "name": "stdout"
        }
      ]
    },
    {
      "cell_type": "code",
      "metadata": {
        "id": "R2bACEaZ1rcp",
        "colab_type": "code",
        "colab": {}
      },
      "source": [
        "%%capture\n",
        "!unzip /content/drive/My\\ Drive/val2017.zip"
      ],
      "execution_count": 2,
      "outputs": []
    },
    {
      "cell_type": "code",
      "metadata": {
        "id": "Jq5KExP51rev",
        "colab_type": "code",
        "colab": {}
      },
      "source": [
        "!mkdir coco\n",
        "!mkdir coco/images\n",
        "!mkdir coco/annotations\n",
        "!mv val2017 coco/images\n",
        "!mv val2017.json coco/annotations\n",
        "!mv coco/annotations/val2017.json coco/annotations/instances_val2017.json"
      ],
      "execution_count": 3,
      "outputs": []
    },
    {
      "cell_type": "code",
      "metadata": {
        "id": "Wfjl9Uyo1K8o",
        "colab_type": "code",
        "colab": {}
      },
      "source": [
        "import tensorflow as tf\n",
        "import tensorflow_addons as tfa \n",
        "import numpy as np \n",
        "from tensorflow.keras.applications.resnet50 import ResNet50\n",
        "from tensorflow.keras.preprocessing import image\n",
        "from tensorflow.keras.applications.resnet50 import preprocess_input, decode_predictions"
      ],
      "execution_count": 4,
      "outputs": []
    },
    {
      "cell_type": "code",
      "metadata": {
        "id": "wy1h_bws1X3J",
        "colab_type": "code",
        "colab": {}
      },
      "source": [
        "from coco import CocoGenerator\n",
        "from matcher import HungarianMatcher\n",
        "from loss import DETRLosses\n",
        "from model import DETR"
      ],
      "execution_count": 5,
      "outputs": []
    },
    {
      "cell_type": "code",
      "metadata": {
        "id": "3iBM0GkX1ZEO",
        "colab_type": "code",
        "colab": {}
      },
      "source": [
        "BATCH_SIZE = 1\n",
        "train_generator = CocoGenerator(\n",
        "    \"coco\",\n",
        "    'val2017',     \n",
        "    batch_size=BATCH_SIZE,\n",
        ")"
      ],
      "execution_count": null,
      "outputs": []
    },
    {
      "cell_type": "code",
      "metadata": {
        "id": "vikZjCAe1aVs",
        "colab_type": "code",
        "colab": {}
      },
      "source": [
        "tf.keras.backend.clear_session()\n",
        "epochs = 100 \n",
        "model = DETR(num_classes=91,num_queries=100)  \n",
        "rundetr = DETRLosses(num_classes = model.num_classes-1)\n",
        "optimizer = tfa.optimizers.AdamW(learning_rate=1e-4, weight_decay=1e-4)\n",
        " \n",
        "\n",
        "tf.keras.backend.clear_session()\n",
        "for epoch in range(epochs):\n",
        "    print(\"\\n########################### Start of epoch %d ############################\" % (epoch,))    \n",
        "\n",
        "    # Iterate over the batches of the dataset.\n",
        "    for step, (x_batch_train, y_batch_train) in enumerate(train_generator):\n",
        "        if [len(i[\"bboxes\"]) for i in y_batch_train]==[0]:\n",
        "          continue    \n",
        "        print(\"EPOCH | STEP\",\"------------- {} | {} -------------\".format(epoch,step))\n",
        "        \n",
        "        with tf.GradientTape() as tape:            \n",
        "            print(x_batch_train.shape)\n",
        "            outputs = model(x_batch_train, training=True)  # Outputs for this minibatch\n",
        "            \n",
        "            # Compute the loss value for this minibatch.\n",
        "           \n",
        "            loss_value = rundetr.combined_loss_fn(outputs,y_batch_train)\n",
        "             \n",
        "        # Use the gradient tape to automatically retrieve\n",
        "        # the gradients of the trainable variables with respect to the loss.\n",
        "        grads = tape.gradient(loss_value, model.trainable_variables)\n",
        "        optimizer.apply_gradients(zip(grads, model.trainable_variables))\n",
        " \n",
        "            \n",
        "\n",
        "    #Save after every epoch\n",
        "    # model.save_weights('/content/drive/My Drive/kdetr/keras_detr')\n",
        "\n",
        "      "
      ],
      "execution_count": null,
      "outputs": []
    }
  ]
}